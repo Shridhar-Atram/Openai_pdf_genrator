{
 "cells": [
  {
   "cell_type": "code",
   "execution_count": 34,
   "id": "38673d9d",
   "metadata": {},
   "outputs": [],
   "source": [
    "import os\n",
    "import openai\n"
   ]
  },
  {
   "cell_type": "code",
   "execution_count": 35,
   "id": "4ebde77c",
   "metadata": {},
   "outputs": [],
   "source": [
    "mykey='<openai key>'"
   ]
  },
  {
   "cell_type": "code",
   "execution_count": 36,
   "id": "321e6e35",
   "metadata": {},
   "outputs": [],
   "source": [
    "#openai.api_key=mykey"
   ]
  },
  {
   "cell_type": "code",
   "execution_count": 37,
   "id": "620abc33",
   "metadata": {},
   "outputs": [],
   "source": [
    "#openai.ChatCompletion.create(\n",
    "  #  model = \"gpt-3.5-turbo\",\n",
    " #   prompt = \"Who is the prime minister of india\"\n",
    "#\n",
    "\n",
    "#)"
   ]
  },
  {
   "cell_type": "code",
   "execution_count": 38,
   "id": "6d5acafb",
   "metadata": {},
   "outputs": [],
   "source": [
    "openai.api_key = mykey"
   ]
  },
  {
   "cell_type": "code",
   "execution_count": 58,
   "id": "390e759f",
   "metadata": {},
   "outputs": [
    {
     "name": "stdout",
     "output_type": "stream",
     "text": [
      "enter what you want to search write about openai\n"
     ]
    }
   ],
   "source": [
    "myinput = input(\"enter what you want to search \")"
   ]
  },
  {
   "cell_type": "code",
   "execution_count": 59,
   "id": "099a66a5",
   "metadata": {},
   "outputs": [],
   "source": [
    "response = openai.ChatCompletion.create(\n",
    "  model=\"gpt-3.5-turbo\",\n",
    "  messages=[\n",
    "    {\n",
    "      \"role\": \"user\",\n",
    "      \"content\": myinput\n",
    "    }\n",
    "  ],\n",
    "\n",
    ")"
   ]
  },
  {
   "cell_type": "code",
   "execution_count": 77,
   "id": "e51d8463",
   "metadata": {},
   "outputs": [],
   "source": [
    "chat_names = response['choices'][0]['message']['content']"
   ]
  },
  {
   "cell_type": "code",
   "execution_count": 41,
   "id": "2b652046",
   "metadata": {},
   "outputs": [],
   "source": [
    " res = openai.Image.create(\n",
    "prompt=\"astrount sitting on the beach\"\n",
    ")"
   ]
  },
  {
   "cell_type": "code",
   "execution_count": 50,
   "id": "9274d91b",
   "metadata": {},
   "outputs": [],
   "source": [
    "img_url = res.data[0].url"
   ]
  },
  {
   "cell_type": "code",
   "execution_count": 52,
   "id": "aa6b70aa",
   "metadata": {},
   "outputs": [],
   "source": [
    "import requests"
   ]
  },
  {
   "cell_type": "code",
   "execution_count": 53,
   "id": "b4df2acb",
   "metadata": {},
   "outputs": [],
   "source": [
    "image = requests.get(img_url).content"
   ]
  },
  {
   "cell_type": "code",
   "execution_count": 54,
   "id": "5a28790a",
   "metadata": {},
   "outputs": [],
   "source": [
    "with open(\"image.png\",\"wb\") as fh:\n",
    "    fh.write(image)\n",
    "    "
   ]
  },
  {
   "cell_type": "code",
   "execution_count": 62,
   "id": "278cea7e",
   "metadata": {},
   "outputs": [],
   "source": [
    "def generate_buildings_pdf(file_name):\n",
    "    # Extract the building names from the OpenAI response\n",
    "    chat_names = response['choices'][0]['message']['content']\n",
    "    \n",
    "    # Create the canvas\n",
    "    c = canvas.Canvas(file_name, pagesize=letter)\n",
    "\n",
    "    # Set the font and font size\n",
    "    c.setFont(\"Helvetica\", 12)\n",
    "\n",
    "    # Draw the title\n",
    "    c.setFont(\"Helvetica-Bold\", 16)\n",
    "    c.drawString(100, 700, myinput)\n",
    "\n",
    "    # Draw the building names\n",
    "    c.setFont(\"Helvetica\", 12)\n",
    "    y = 650\n",
    "    for building in chat_names.split('\\n'):\n",
    "        c.drawString(100, y, building)\n",
    "        y -= 20\n",
    "\n",
    "    # Save the canvas contents\n",
    "    c.save()\n",
    "\n",
    "# Generate the PDF file\n",
    "generate_buildings_pdf(\"buildings.pdf\")"
   ]
  },
  {
   "cell_type": "code",
   "execution_count": 76,
   "id": "52ba83bc",
   "metadata": {},
   "outputs": [],
   "source": [
    "from reportlab.pdfgen import canvas\n",
    "from reportlab.lib.pagesizes import letter\n",
    "\n",
    "def generate_buildings_pdf(file_name):\n",
    "    # Extract the building names from the OpenAI response # Placeholder for the OpenAI response\n",
    "    chat_names = response['choices'][0]['message']['content']\n",
    "    \n",
    "    # Create the canvas\n",
    "    c = canvas.Canvas(file_name, pagesize=letter)\n",
    "\n",
    "    # Set the font and font size\n",
    "    c.setFont(\"Helvetica\", 12)\n",
    "\n",
    "    # Draw the title\n",
    "    c.setFont(\"Helvetica-Bold\", 16)\n",
    "\n",
    "    # Draw the building names\n",
    "    c.setFont(\"Helvetica\", 12)\n",
    "    with open(file_name, 'w', encoding='utf-8') as output_file:\n",
    "        for building in chat_names.split('\\n'):\n",
    "            output_file.write(building[:70] + '\\n') \n",
    "\n",
    "\n",
    "# Generate the PDF file\n",
    "generate_buildings_pdf(\"myfile1.txt\")\n",
    "\n"
   ]
  },
  {
   "cell_type": "code",
   "execution_count": 78,
   "id": "d5995ab5",
   "metadata": {},
   "outputs": [
    {
     "name": "stdout",
     "output_type": "stream",
     "text": [
      "Text file 'write_about_openai.txt' has been generated successfully!\n"
     ]
    }
   ],
   "source": [
    "def generate_text_file(title, content):\n",
    "    file_name = title.replace(\" \", \"_\") + \".txt\"\n",
    "    with open(file_name, \"w\") as file:\n",
    "        file.write(content)\n",
    "    print(f\"Text file '{file_name}' has been generated successfully!\")\n",
    "\n",
    "\n",
    "\n",
    "# Generate the text file\n",
    "generate_text_file(myinput,chat_names)\n"
   ]
  },
  {
   "cell_type": "code",
   "execution_count": null,
   "id": "263ace24",
   "metadata": {},
   "outputs": [],
   "source": []
  }
 ],
 "metadata": {
  "kernelspec": {
   "display_name": "Python 3 (ipykernel)",
   "language": "python",
   "name": "python3"
  },
  "language_info": {
   "codemirror_mode": {
    "name": "ipython",
    "version": 3
   },
   "file_extension": ".py",
   "mimetype": "text/x-python",
   "name": "python",
   "nbconvert_exporter": "python",
   "pygments_lexer": "ipython3",
   "version": "3.10.9"
  }
 },
 "nbformat": 4,
 "nbformat_minor": 5
}
